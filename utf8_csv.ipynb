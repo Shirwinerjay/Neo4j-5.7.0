{
 "cells": [
  {
   "cell_type": "code",
   "execution_count": 2,
   "metadata": {},
   "outputs": [],
   "source": [
    "import os\n",
    "import pandas as pd\n",
    "\n",
    "# 获取当前目录下所有的xlsx文件\n",
    "xlsx_files = [f for f in os.listdir() if f.endswith('.xlsx')]\n",
    "\n",
    "# 遍历所有的xlsx文件\n",
    "for xlsx_file in xlsx_files:\n",
    "    # 读取xlsx文件\n",
    "    xls = pd.ExcelFile(xlsx_file)\n",
    "    # 获取所有的sheet名\n",
    "    sheets = xls.sheet_names\n",
    "    # 遍历所有的sheet\n",
    "    for sheet in sheets:\n",
    "        # 获取当前sheet的所有数据\n",
    "        data = xls.parse(sheet)\n",
    "        # 创建csv文件名\n",
    "        csv_file = '{}_{}.csv'.format(xlsx_file[:-5], sheet)\n",
    "        # 将数据写入csv文件\n",
    "        data.to_csv(csv_file, index=False, encoding='utf-8')"
   ]
  }
 ],
 "metadata": {
  "kernelspec": {
   "display_name": "Python 3",
   "language": "python",
   "name": "python3"
  },
  "language_info": {
   "codemirror_mode": {
    "name": "ipython",
    "version": 3
   },
   "file_extension": ".py",
   "mimetype": "text/x-python",
   "name": "python",
   "nbconvert_exporter": "python",
   "pygments_lexer": "ipython3",
   "version": "3.11.5"
  },
  "orig_nbformat": 4
 },
 "nbformat": 4,
 "nbformat_minor": 2
}
